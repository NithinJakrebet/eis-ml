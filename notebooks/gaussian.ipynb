{
 "cells": [
  {
   "cell_type": "code",
   "execution_count": 1,
   "metadata": {},
   "outputs": [],
   "source": [
    "import numpy as np\n",
    "import matplotlib.pyplot as plt\n",
    "from sklearn.gaussian_process import GaussianProcessRegressor\n",
    "from sklearn.gaussian_process.kernels import RBF, WhiteKernel\n",
    "from sklearn.preprocessing import StandardScaler\n"
   ]
  },
  {
   "cell_type": "code",
   "execution_count": 4,
   "metadata": {},
   "outputs": [],
   "source": [
    "import sys\n",
    "import os\n",
    "\n",
    "sys.path.append(os.path.abspath(\"../scripts\"))\n",
    "\n",
    "# Now import the modules\n",
    "from load_data import load_data\n",
    "from preprocess import preprocess_data\n",
    "from train_gpr import train_gpr\n",
    "from evaluate import evaluate_model  # Now should work\n"
   ]
  },
  {
   "cell_type": "code",
   "execution_count": 5,
   "metadata": {},
   "outputs": [],
   "source": [
    "# ✅ 2. Load Data\n",
    "data = load_data()\n",
    "df_a1 = data[\"Channel A1.csv\"]  # Select dataset"
   ]
  },
  {
   "cell_type": "code",
   "execution_count": 7,
   "metadata": {},
   "outputs": [],
   "source": [
    "# ✅ 3. Preprocess Data (Drop NaNs, Sample 10%, Normalize)\n",
    "X_scaled, y_scaled, scaler_X, scaler_y = preprocess_data(df_a1, 'Capacity/mA.h', ['Re(Z)/Ohm', 'Im(Z)/Ohm'])"
   ]
  },
  {
   "cell_type": "code",
   "execution_count": 9,
   "metadata": {},
   "outputs": [],
   "source": [
    "# ✅ 4. Train Gaussian Process Regressor & Save Model\n",
    "model_path = \"models/gpr_model.pkl\"\n",
    "gp = train_gpr(X_scaled, y_scaled, length_scale=1.0, noise_level=0.1, n_restarts=10)"
   ]
  },
  {
   "cell_type": "code",
   "execution_count": null,
   "metadata": {},
   "outputs": [],
   "source": [
    "# ✅ 5. Generate Test Data for Predictions\n",
    "X_test = np.linspace(np.min(X_scaled[:, 0]), np.max(X_scaled[:, 0]), 100).reshape(-1, 1)\n",
    "X_test = np.hstack([X_test, np.full_like(X_test, np.mean(X_scaled[:, 1]))])  # Keep -Im(Z) constant"
   ]
  },
  {
   "cell_type": "code",
   "execution_count": null,
   "metadata": {},
   "outputs": [],
   "source": [
    "# ✅ 6. Make Predictions\n",
    "y_pred_scaled, sigma = gp.predict(X_test, return_std=True)\n",
    "y_pred = scaler_y.inverse_transform(y_pred_scaled.reshape(-1, 1)).ravel()  # Convert back to original scale"
   ]
  },
  {
   "cell_type": "code",
   "execution_count": null,
   "metadata": {},
   "outputs": [],
   "source": [
    "# ✅ 7. Visualize Results\n",
    "plt.figure(figsize=(8, 5))\n",
    "plt.scatter(scaler_X.inverse_transform(X_scaled)[:, 0], scaler_y.inverse_transform(y_scaled.reshape(-1, 1)).ravel(), \n",
    "            color=\"red\", label=\"Training Data\")\n",
    "plt.plot(scaler_X.inverse_transform(X_test)[:, 0], y_pred, \"b-\", label=\"GP Prediction (mean)\")\n",
    "plt.fill_between(scaler_X.inverse_transform(X_test)[:, 0], \n",
    "                 scaler_y.inverse_transform((y_pred_scaled - 2 * sigma).reshape(-1, 1)).ravel(),\n",
    "                 scaler_y.inverse_transform((y_pred_scaled + 2 * sigma).reshape(-1, 1)).ravel(),\n",
    "                 color=\"blue\", alpha=0.2, label=\"Confidence Interval (±2σ)\")\n",
    "plt.xlabel(\"Re(Z)/Ohm (Real Impedance)\")\n",
    "plt.ylabel(\"Capacity (mA.h)\")\n",
    "plt.title(\"Gaussian Process Regression on Battery Impedance Data\")\n",
    "plt.legend()\n",
    "plt.show()"
   ]
  },
  {
   "cell_type": "code",
   "execution_count": null,
   "metadata": {},
   "outputs": [],
   "source": [
    "# ✅ 8. Evaluate Model Performance on New Test Data\n",
    "df_test = data[\"New_Test_Data.csv\"]  # Load new test dataset\n",
    "X_test_scaled, y_test_scaled, _, _ = preprocess_data(df_test, 'Capacity/mA.h', ['Re(Z)/Ohm', '-Im(Z)/Ohm'])\n",
    "\n",
    "# Load Trained Model & Predict on Test Set\n",
    "gp = joblib.load(model_path)\n",
    "y_test_pred_scaled, _ = gp.predict(X_test_scaled, return_std=True)\n",
    "y_test_pred = scaler_y.inverse_transform(y_test_pred_scaled.reshape(-1, 1)).ravel()\n",
    "\n",
    "# Evaluate Model Performance\n",
    "metrics = evaluate_model(scaler_y.inverse_transform(y_test_scaled.reshape(-1, 1)).ravel(), y_test_pred)\n",
    "print(\"Model Performance:\", metrics)\n"
   ]
  }
 ],
 "metadata": {
  "kernelspec": {
   "display_name": "venv",
   "language": "python",
   "name": "python3"
  },
  "language_info": {
   "codemirror_mode": {
    "name": "ipython",
    "version": 3
   },
   "file_extension": ".py",
   "mimetype": "text/x-python",
   "name": "python",
   "nbconvert_exporter": "python",
   "pygments_lexer": "ipython3",
   "version": "3.12.0"
  },
  "orig_nbformat": 4
 },
 "nbformat": 4,
 "nbformat_minor": 2
}
